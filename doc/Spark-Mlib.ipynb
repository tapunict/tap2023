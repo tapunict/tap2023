{
 "cells": [
  {
   "cell_type": "markdown",
   "metadata": {
    "slideshow": {
     "slide_type": "slide"
    }
   },
   "source": [
    "#  Spark Mlib"
   ]
  },
  {
   "cell_type": "markdown",
   "metadata": {
    "slideshow": {
     "slide_type": "subslide"
    }
   },
   "source": [
    "![](https://blog.osservatori.net/hubfs/AI/machine-learning.jpg)\n",
    "[Osservatori.net](https://blog.osservatori.net/it_it/machine-learning-come-funziona-apprendimento-automatico)"
   ]
  },
  {
   "cell_type": "markdown",
   "metadata": {
    "slideshow": {
     "slide_type": "slide"
    }
   },
   "source": [
    "<div class=\"jumbotron\">\n",
    "    <center>\n",
    "        <b>MLlib</b> is Apache Spark's scalable machine learning library.\n",
    "    </center>\n",
    "</div>"
   ]
  },
  {
   "cell_type": "markdown",
   "metadata": {
    "slideshow": {
     "slide_type": "subslide"
    }
   },
   "source": [
    "## Ease of Use"
   ]
  },
  {
   "cell_type": "markdown",
   "metadata": {
    "cell_style": "split",
    "slideshow": {
     "slide_type": "fragment"
    }
   },
   "source": [
    "***Usable in Java, Scala, Python, and R.***\n",
    "\n",
    "MLlib fits into Spark's APIs and interoperates with NumPy in Python (as of Spark 0.9) and R libraries (as of Spark 1.5). You can use any Hadoop data source (e.g. HDFS, HBase, or local files), making it easy to plug into Hadoop workflows."
   ]
  },
  {
   "cell_type": "markdown",
   "metadata": {
    "cell_style": "split",
    "slideshow": {
     "slide_type": "fragment"
    }
   },
   "source": [
    "```python\n",
    "data = spark.read.format(\"libsvm\")\\\n",
    "  .load(\"hdfs://...\")\n",
    "\n",
    "model = KMeans(k=10).fit(data)\n",
    "```"
   ]
  },
  {
   "cell_type": "markdown",
   "metadata": {
    "slideshow": {
     "slide_type": "subslide"
    }
   },
   "source": [
    "## Performance"
   ]
  },
  {
   "cell_type": "markdown",
   "metadata": {
    "cell_style": "split",
    "slideshow": {
     "slide_type": "fragment"
    }
   },
   "source": [
    "***High-quality algorithms, 100x faster than MapReduce.***\n",
    "\n",
    "Spark excels at iterative computation, enabling MLlib to run fast. At the same time, we care about algorithmic performance: MLlib contains high-quality algorithms that leverage iteration, and can yield better results than the one-pass approximations sometimes used on MapReduce."
   ]
  },
  {
   "cell_type": "markdown",
   "metadata": {
    "cell_style": "split",
    "slideshow": {
     "slide_type": "fragment"
    }
   },
   "source": [
    "![](https://spark.apache.org/images/logistic-regression.png)"
   ]
  },
  {
   "cell_type": "markdown",
   "metadata": {
    "slideshow": {
     "slide_type": "subslide"
    }
   },
   "source": [
    "## Algorithms and Utilities"
   ]
  },
  {
   "cell_type": "markdown",
   "metadata": {
    "cell_style": "split",
    "slideshow": {
     "slide_type": "fragment"
    }
   },
   "source": [
    "*Algorithms*\n",
    "\n",
    "* Classification: logistic regression, naive Bayes,...\n",
    "* Regression: generalized linear regression, survival regression,...\n",
    "* Decision trees, random forests, and gradient-boosted trees\n",
    "* Recommendation: alternating least squares (ALS)\n",
    "* Clustering: K-means, Gaussian mixtures (GMMs),...\n",
    "* Topic modeling: latent Dirichlet allocation (LDA)\n",
    "* Frequent itemsets, association rules, and sequential pattern mining\n"
   ]
  },
  {
   "cell_type": "markdown",
   "metadata": {
    "cell_style": "split",
    "slideshow": {
     "slide_type": "fragment"
    }
   },
   "source": [
    "*Utilities*\n",
    "\n",
    "* Feature transformations: standardization, normalization, hashing,...\n",
    "* ML Pipeline construction\n",
    "* Model evaluation and hyper-parameter tuning\n",
    "* ML persistence: saving and loading models and Pipelines\n",
    "* Distributed linear algebra: SVD, PCA,..."
   ]
  },
  {
   "cell_type": "markdown",
   "metadata": {
    "slideshow": {
     "slide_type": "subslide"
    }
   },
   "source": [
    "## Announcement: DataFrame-based API is primary API\n",
    "https://spark.apache.org/docs/latest/ml-guide.html\n",
    "\n",
    "The MLlib RDD-based API is now in maintenance mode.\n",
    "\n",
    "As of Spark 2.0, the RDD-based APIs in the spark.mllib package have entered maintenance mode. The primary Machine Learning API for Spark is now the DataFrame-based API in the spark.ml package.\n",
    "\n",
    "DataFrames provide a more user-friendly API than RDDs. The many benefits of DataFrames include Spark Datasources, SQL/DataFrame queries, Tungsten and Catalyst optimizations, and uniform APIs across languages.\n",
    "The DataFrame-based API for MLlib provides a uniform API across ML algorithms and across multiple languages.\n",
    "DataFrames facilitate practical ML Pipelines, particularly feature transformations. See the Pipelines guide for details.\n",
    "\n",
    "What is “Spark ML”?\n",
    "\n",
    "“Spark ML” is not an official name but occasionally used to refer to the MLlib DataFrame-based API."
   ]
  },
  {
   "cell_type": "markdown",
   "metadata": {
    "slideshow": {
     "slide_type": "subslide"
    }
   },
   "source": [
    "## Highlights in 3.0[](https://spark.apache.org/docs/latest/ml-guide.html#highlights-in-30)\n",
    "\n",
    "The list below highlights some of the new features and enhancements added to MLlib in the `3.0`\n",
    "release of Spark:\n",
    "\n",
    "* Multiple columns support was added to `Binarizer` ([SPARK-23578](https://issues.apache.org/jira/browse/SPARK-23578)), `StringIndexer` ([SPARK-11215](https://issues.apache.org/jira/browse/SPARK-11215)), `StopWordsRemover` ([SPARK-29808](https://issues.apache.org/jira/browse/SPARK-29808)) and PySpark `QuantileDiscretizer` ([SPARK-22796](https://issues.apache.org/jira/browse/SPARK-22796)).\n",
    "* Tree-Based Feature Transformation was added\n",
    "    ([SPARK-13677](https://issues.apache.org/jira/browse/SPARK-13677)).\n",
    "* Two new evaluators `MultilabelClassificationEvaluator` ([SPARK-16692](https://issues.apache.org/jira/browse/SPARK-16692)) and `RankingEvaluator` ([SPARK-28045](https://issues.apache.org/jira/browse/SPARK-28045)) were added.\n",
    "* Sample weights support was added in `DecisionTreeClassifier/Regressor` ([SPARK-19591](https://issues.apache.org/jira/browse/SPARK-19591)), `RandomForestClassifier/Regressor` ([SPARK-9478](https://issues.apache.org/jira/browse/SPARK-9478)), `GBTClassifier/Regressor` ([SPARK-9612](https://issues.apache.org/jira/browse/SPARK-9612)),  `MulticlassClassificationEvaluator` ([SPARK-24101](https://issues.apache.org/jira/browse/SPARK-24101)), `RegressionEvaluator` ([SPARK-24102](https://issues.apache.org/jira/browse/SPARK-24102)), `BinaryClassificationEvaluator` ([SPARK-24103](https://issues.apache.org/jira/browse/SPARK-24103)), `BisectingKMeans` ([SPARK-30351](https://issues.apache.org/jira/browse/SPARK-30351)), `KMeans` ([SPARK-29967](https://issues.apache.org/jira/browse/SPARK-29967)) and `GaussianMixture` ([SPARK-30102](https://issues.apache.org/jira/browse/SPARK-30102)).\n",
    "* R API for `PowerIterationClustering` was added\n",
    "    ([SPARK-19827](https://issues.apache.org/jira/browse/SPARK-19827)).\n",
    "* Added Spark ML listener for tracking ML pipeline status\n",
    "    ([SPARK-23674](https://issues.apache.org/jira/browse/SPARK-23674)).\n",
    "* Fit with validation set was added to Gradient Boosted Trees in Python\n",
    "    ([SPARK-24333](https://issues.apache.org/jira/browse/SPARK-24333)).\n",
    "* [`RobustScaler`](https://spark.apache.org/docs/latest/ml-features.html#robustscaler) transformer was added\n",
    "    ([SPARK-28399](https://issues.apache.org/jira/browse/SPARK-28399)).\n",
    "* [`Factorization Machines`](https://spark.apache.org/docs/latest/ml-classification-regression.html#factorization-machines) classifier and regressor were added\n",
    "    ([SPARK-29224](https://issues.apache.org/jira/browse/SPARK-29224)).\n",
    "* Gaussian Naive Bayes Classifier ([SPARK-16872](https://issues.apache.org/jira/browse/SPARK-16872)) and Complement Naive Bayes Classifier ([SPARK-29942](https://issues.apache.org/jira/browse/SPARK-29942)) were added.\n",
    "* ML function parity between Scala and Python\n",
    "    ([SPARK-28958](https://issues.apache.org/jira/browse/SPARK-28958)).\n",
    "* `predictRaw` is made public in all the Classification models. `predictProbability` is made public in all the Classification models except `LinearSVCModel`\n",
    "    ([SPARK-30358](https://issues.apache.org/jira/browse/SPARK-30358))."
   ]
  },
  {
   "cell_type": "markdown",
   "metadata": {
    "slideshow": {
     "slide_type": "slide"
    }
   },
   "source": [
    "## Data Types"
   ]
  },
  {
   "cell_type": "markdown",
   "metadata": {
    "slideshow": {
     "slide_type": "subslide"
    }
   },
   "source": [
    "## Local vector\n",
    "A local vector has integer-typed and 0-based indices and double-typed values, stored on a single machine. \n",
    "\n",
    "MLlib supports two types of local vectors: dense and sparse. \n",
    "\n",
    "A dense vector is backed by a double array representing its entry values, while a sparse vector is backed by two parallel arrays: indices and values. \n",
    "\n",
    "For example, a vector (1.0, 0.0, 3.0) can be represented in dense format as [1.0, 0.0, 3.0] or in sparse format as (3, [0, 2], [1.0, 3.0]), where 3 is the size of the vector.\n"
   ]
  },
  {
   "cell_type": "markdown",
   "metadata": {
    "slideshow": {
     "slide_type": "slide"
    }
   },
   "source": [
    "# Basic Statistics\n",
    "https://databricks-prod-cloudfront.cloud.databricks.com/public/4027ec902e239c93eaaa8714f173bcfc/1408031979081866/2243907263472147/2956912205716139/latest.html"
   ]
  },
  {
   "cell_type": "markdown",
   "metadata": {
    "slideshow": {
     "slide_type": "slide"
    }
   },
   "source": [
    "# Pipelines\n",
    "https://databricks-prod-cloudfront.cloud.databricks.com/public/4027ec902e239c93eaaa8714f173bcfc/1408031979081866/2243907263472164/2956912205716139/latest.html"
   ]
  },
  {
   "cell_type": "markdown",
   "metadata": {
    "slideshow": {
     "slide_type": "slide"
    }
   },
   "source": [
    "## Extracting, transforming and selecting features\n",
    "https://spark.apache.org/docs/latest/ml-features.html#extracting-transforming-and-selecting-features\n",
    "\n",
    "https://databricks-prod-cloudfront.cloud.databricks.com/public/4027ec902e239c93eaaa8714f173bcfc/1408031979081866/2689304922466405/2956912205716139/latest.html"
   ]
  },
  {
   "cell_type": "markdown",
   "metadata": {
    "slideshow": {
     "slide_type": "slide"
    }
   },
   "source": [
    "# Classification and regression\n",
    "https://spark.apache.org/docs/latest/ml-classification-regression.html#classification-and-regression"
   ]
  },
  {
   "cell_type": "markdown",
   "metadata": {
    "slideshow": {
     "slide_type": "slide"
    }
   },
   "source": [
    "## Pipelines\n",
    "https://spark.apache.org/docs/latest/ml-pipeline.html\n",
    "\n",
    "https://databricks-prod-cloudfront.cloud.databricks.com/public/4027ec902e239c93eaaa8714f173bcfc/1408031979081866/2243907263472164/2956912205716139/latest.html"
   ]
  },
  {
   "cell_type": "markdown",
   "metadata": {
    "slideshow": {
     "slide_type": "slide"
    }
   },
   "source": [
    "# Sentiment Analysis\n",
    "\n",
    "https://databricks-prod-cloudfront.cloud.databricks.com/public/4027ec902e239c93eaaa8714f173bcfc/1408031979081866/3917430877036588/2956912205716139/latest.html"
   ]
  },
  {
   "cell_type": "markdown",
   "metadata": {
    "slideshow": {
     "slide_type": "slide"
    }
   },
   "source": [
    "# Biblio"
   ]
  },
  {
   "cell_type": "markdown",
   "metadata": {
    "slideshow": {
     "slide_type": "fragment"
    }
   },
   "source": [
    "* https://spark.apache.org/mllib/\n",
    "* https://spark.apache.org/docs/latest/ml-guide.html\n",
    "* https://blog.osservatori.net/it_it/machine-learning-come-funziona-apprendimento-automatico\n",
    "* https://towardsdatascience.com/hands-on-big-data-streaming-apache-spark-at-scale-fd89c15fa6b0\n",
    "* https://towardsdatascience.com/apache-spark-mllib-tutorial-ec6f1cb336a9\n",
    "* https://www.guru99.com/pyspark-tutorial.html\n",
    "* https://towardsdatascience.com/sentiment-analysis-simplified-ac30720a5827\n",
    "* http://web.cs.ucla.edu/~mtgarip/statistics.html\n",
    "* https://towardsdatascience.com/machine-learning-with-pyspark-and-mllib-solving-a-binary-classification-problem-96396065d2aa\n",
    "* https://runawayhorse001.github.io/LearningApacheSpark/index.html"
   ]
  }
 ],
 "metadata": {
  "celltoolbar": "Slideshow",
  "kernelspec": {
   "display_name": "Python 3 (ipykernel)",
   "language": "python",
   "name": "python3"
  },
  "language_info": {
   "codemirror_mode": {
    "name": "ipython",
    "version": 3
   },
   "file_extension": ".py",
   "mimetype": "text/x-python",
   "name": "python",
   "nbconvert_exporter": "python",
   "pygments_lexer": "ipython3",
   "version": "3.9.15"
  },
  "rise": {
   "autolaunch": true,
   "enable_chalkboard": "true",
   "footer": "<div class=\"tswd-footer\"> *** Cloud Computing and Big Data - 2023 ***</div>",
   "header": "<div class=\"tswd-header\"></div>",
   "scroll": true,
   "theme": "night"
  }
 },
 "nbformat": 4,
 "nbformat_minor": 4
}
