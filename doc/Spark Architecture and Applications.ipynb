{
 "cells": [
  {
   "cell_type": "markdown",
   "metadata": {
    "slideshow": {
     "slide_type": "slide"
    }
   },
   "source": [
    "#  Spark Architecture and Applications "
   ]
  },
  {
   "cell_type": "markdown",
   "metadata": {
    "slideshow": {
     "slide_type": "subslide"
    }
   },
   "source": [
    "![](https://miro.medium.com/max/1400/1*arBqq7O7umskV4O7JjhdrA.jpeg)"
   ]
  },
  {
   "cell_type": "markdown",
   "metadata": {
    "slideshow": {
     "slide_type": "subslide"
    }
   },
   "source": [
    "# /etc/rc.d/rc.sysinit"
   ]
  },
  {
   "cell_type": "code",
   "execution_count": 1,
   "metadata": {
    "slideshow": {
     "slide_type": "fragment"
    }
   },
   "outputs": [
    {
     "name": "stderr",
     "output_type": "stream",
     "text": [
      "Setting default log level to \"WARN\".\n",
      "To adjust logging level use sc.setLogLevel(newLevel). For SparkR, use setLogLevel(newLevel).\n",
      "23/05/04 16:37:22 WARN NativeCodeLoader: Unable to load native-hadoop library for your platform... using builtin-java classes where applicable\n"
     ]
    },
    {
     "data": {
      "text/html": [
       "\n",
       "        <div>\n",
       "            <p><b>SparkContext</b></p>\n",
       "\n",
       "            <p><a href=\"http://151.97.56.139:4040\">Spark UI</a></p>\n",
       "\n",
       "            <dl>\n",
       "              <dt>Version</dt>\n",
       "                <dd><code>v3.4.0</code></dd>\n",
       "              <dt>Master</dt>\n",
       "                <dd><code>local[8]</code></dd>\n",
       "              <dt>AppName</dt>\n",
       "                <dd><code>Tap</code></dd>\n",
       "            </dl>\n",
       "        </div>\n",
       "        "
      ],
      "text/plain": [
       "<SparkContext master=local[8] appName=Tap>"
      ]
     },
     "execution_count": 1,
     "metadata": {},
     "output_type": "execute_result"
    }
   ],
   "source": [
    "import findspark\n",
    "import pyspark\n",
    "conf = pyspark.SparkConf().setAppName('Tap').setMaster('local[8]')\n",
    "sc = pyspark.SparkContext(conf=conf)\n",
    "sc"
   ]
  },
  {
   "cell_type": "markdown",
   "metadata": {
    "slideshow": {
     "slide_type": "slide"
    }
   },
   "source": [
    "# Spark Variables"
   ]
  },
  {
   "cell_type": "markdown",
   "metadata": {
    "slideshow": {
     "slide_type": "subslide"
    }
   },
   "source": [
    "![](https://programmerhumor.io/wp-content/uploads/2023/02/programmerhumor-io-programming-memes-20822be2f46de63-608x776.png)"
   ]
  },
  {
   "cell_type": "markdown",
   "metadata": {
    "slideshow": {
     "slide_type": "subslide"
    }
   },
   "source": [
    "## Shared Variables"
   ]
  },
  {
   "cell_type": "markdown",
   "metadata": {
    "slideshow": {
     "slide_type": "fragment"
    }
   },
   "source": [
    "Normally, when a function passed to a Spark operation (such as map or reduce) is executed on a remote cluster node, it works on separate copies of all the variables used in the function. "
   ]
  },
  {
   "cell_type": "markdown",
   "metadata": {
    "cell_style": "split",
    "slideshow": {
     "slide_type": "fragment"
    }
   },
   "source": [
    "These variables are copied to each machine, and no updates to the variables on the remote machine are propagated back to the driver program. "
   ]
  },
  {
   "cell_type": "markdown",
   "metadata": {
    "cell_style": "split",
    "slideshow": {
     "slide_type": "fragment"
    }
   },
   "source": [
    "Supporting general, read-write shared variables across tasks would be inefficient."
   ]
  },
  {
   "cell_type": "markdown",
   "metadata": {
    "slideshow": {
     "slide_type": "fragment"
    }
   },
   "source": [
    "However, Spark does provide two limited types of shared variables for two common usage patterns: broadcast variables and accumulators."
   ]
  },
  {
   "cell_type": "markdown",
   "metadata": {
    "slideshow": {
     "slide_type": "subslide"
    }
   },
   "source": [
    "## Broadcast"
   ]
  },
  {
   "cell_type": "markdown",
   "metadata": {
    "slideshow": {
     "slide_type": "subslide"
    }
   },
   "source": [
    "Broadcast variables allow the programmer to keep a read-only variable cached on each machine rather than shipping a copy of it with tasks. "
   ]
  },
  {
   "cell_type": "markdown",
   "metadata": {
    "slideshow": {
     "slide_type": "fragment"
    }
   },
   "source": [
    "They can be used, for example, to give every node a copy of a large input dataset in an efficient manner. "
   ]
  },
  {
   "cell_type": "markdown",
   "metadata": {
    "slideshow": {
     "slide_type": "fragment"
    }
   },
   "source": [
    "Spark also attempts to distribute broadcast variables using efficient broadcast algorithms to reduce communication cost."
   ]
  },
  {
   "cell_type": "markdown",
   "metadata": {
    "slideshow": {
     "slide_type": "subslide"
    }
   },
   "source": [
    "Spark actions are executed through a set of stages, separated by distributed “shuffle” operations. "
   ]
  },
  {
   "cell_type": "markdown",
   "metadata": {
    "slideshow": {
     "slide_type": "fragment"
    }
   },
   "source": [
    "Spark automatically broadcasts the common data needed by tasks within each stage. "
   ]
  },
  {
   "cell_type": "markdown",
   "metadata": {
    "slideshow": {
     "slide_type": "fragment"
    }
   },
   "source": [
    "The data broadcasted this way is cached in serialized form and deserialized before running each task. "
   ]
  },
  {
   "cell_type": "markdown",
   "metadata": {
    "slideshow": {
     "slide_type": "fragment"
    }
   },
   "source": [
    "This means that explicitly creating broadcast variables is only useful when tasks across multiple stages need the same data or when caching the data in deserialized form is important."
   ]
  },
  {
   "cell_type": "code",
   "execution_count": 2,
   "metadata": {
    "cell_style": "split",
    "slideshow": {
     "slide_type": "subslide"
    }
   },
   "outputs": [
    {
     "data": {
      "text/plain": [
       "1.1"
      ]
     },
     "execution_count": 2,
     "metadata": {},
     "output_type": "execute_result"
    }
   ],
   "source": [
    "euroRate = sc.broadcast(1.10)\n",
    "euroRate.value"
   ]
  },
  {
   "cell_type": "code",
   "execution_count": 3,
   "metadata": {
    "cell_style": "split",
    "slideshow": {
     "slide_type": "fragment"
    }
   },
   "outputs": [
    {
     "data": {
      "text/plain": [
       "[40, 86, 39, 57, 28, 34, 5, 63, 32, 44]"
      ]
     },
     "execution_count": 3,
     "metadata": {},
     "output_type": "execute_result"
    }
   ],
   "source": [
    "import random\n",
    "#Generate 5 random numbers between 1 and 100\n",
    "sales = random.sample(range(1, 100), 10)\n",
    "salesRDD=sc.parallelize(sales)\n",
    "salesRDD.collect()"
   ]
  },
  {
   "cell_type": "code",
   "execution_count": 4,
   "metadata": {
    "cell_style": "split",
    "slideshow": {
     "slide_type": "fragment"
    }
   },
   "outputs": [
    {
     "data": {
      "text/plain": [
       "['44.0$',\n",
       " '94.6$',\n",
       " '42.9$',\n",
       " '62.7$',\n",
       " '30.8$',\n",
       " '37.4$',\n",
       " '5.5$',\n",
       " '69.3$',\n",
       " '35.2$',\n",
       " '48.4$']"
      ]
     },
     "execution_count": 4,
     "metadata": {},
     "output_type": "execute_result"
    }
   ],
   "source": [
    "# Use euroRate to get tle\n",
    "salesRDD.map(lambda x: str(round(x*euroRate.value,2))+\"$\").collect()"
   ]
  },
  {
   "cell_type": "code",
   "execution_count": 5,
   "metadata": {
    "cell_style": "split",
    "slideshow": {
     "slide_type": "fragment"
    }
   },
   "outputs": [
    {
     "data": {
      "text/plain": [
       "689.8363186000003"
      ]
     },
     "execution_count": 5,
     "metadata": {},
     "output_type": "execute_result"
    }
   ],
   "source": [
    "salesRDD.reduce(lambda a,b:(a+b)*euroRate.value)"
   ]
  },
  {
   "cell_type": "markdown",
   "metadata": {
    "cell_style": "center",
    "slideshow": {
     "slide_type": "subslide"
    }
   },
   "source": [
    "### Notes\n",
    "After the broadcast variable is created, it should be used instead of the value v in any functions run on the cluster so that v is not shipped to the nodes more than once. In addition, the object v should not be modified after it is broadcast in order to ensure that all nodes get the same value of the broadcast variable (e.g. if the variable is shipped to a new node later).\n",
    "\n",
    "To release the resources that the broadcast variable copied onto executors, call .unpersist(). If the broadcast is used again afterwards, it will be re-broadcast. To permanently release all resources used by the broadcast variable, call .destroy(). The broadcast variable can’t be used after that. Note that these methods do not block by default. To block until resources are freed, specify blocking=true when calling them."
   ]
  },
  {
   "cell_type": "markdown",
   "metadata": {
    "slideshow": {
     "slide_type": "subslide"
    }
   },
   "source": [
    "## Accumulators"
   ]
  },
  {
   "cell_type": "markdown",
   "metadata": {
    "slideshow": {
     "slide_type": "subslide"
    }
   },
   "source": [
    "![](https://upload.wikimedia.org/wikipedia/en/4/4e/Electro_%28Max_Dillon%29.png)"
   ]
  },
  {
   "cell_type": "markdown",
   "metadata": {
    "slideshow": {
     "slide_type": "subslide"
    }
   },
   "source": [
    "Accumulators are variables that are only “added” to through an associative and commutative operation and can therefore be efficiently supported in parallel. "
   ]
  },
  {
   "cell_type": "markdown",
   "metadata": {
    "slideshow": {
     "slide_type": "fragment"
    }
   },
   "source": [
    "They can be used to implement counters (as in MapReduce) or sums. "
   ]
  },
  {
   "cell_type": "markdown",
   "metadata": {
    "slideshow": {
     "slide_type": "fragment"
    }
   },
   "source": [
    "Spark natively supports accumulators of numeric types, and programmers can add support for new types."
   ]
  },
  {
   "cell_type": "markdown",
   "metadata": {
    "cell_style": "split",
    "slideshow": {
     "slide_type": "subslide"
    }
   },
   "source": [
    "For accumulator updates performed inside **actions** only, Spark guarantees that each task’s update to the accumulator will only be applied once, i.e. restarted tasks will not update the value. "
   ]
  },
  {
   "cell_type": "markdown",
   "metadata": {
    "cell_style": "split",
    "slideshow": {
     "slide_type": "fragment"
    }
   },
   "source": [
    "In **transformations**, users should be aware of that each task’s update may be applied more than once if tasks or job stages are re-executed."
   ]
  },
  {
   "cell_type": "code",
   "execution_count": 6,
   "metadata": {
    "slideshow": {
     "slide_type": "subslide"
    }
   },
   "outputs": [
    {
     "data": {
      "text/plain": [
       "Accumulator<id=0, value=0>"
      ]
     },
     "execution_count": 6,
     "metadata": {},
     "output_type": "execute_result"
    }
   ],
   "source": [
    "accum = sc.accumulator(0)\n",
    "accum"
   ]
  },
  {
   "cell_type": "code",
   "execution_count": 7,
   "metadata": {
    "slideshow": {
     "slide_type": "fragment"
    }
   },
   "outputs": [],
   "source": [
    "data=sc.parallelize([1, 2, 3, 4])\n",
    "data.foreach(lambda x: accum.add(x))"
   ]
  },
  {
   "cell_type": "code",
   "execution_count": 8,
   "metadata": {
    "slideshow": {
     "slide_type": "fragment"
    }
   },
   "outputs": [
    {
     "data": {
      "text/plain": [
       "10"
      ]
     },
     "execution_count": 8,
     "metadata": {},
     "output_type": "execute_result"
    }
   ],
   "source": [
    "accum.value"
   ]
  },
  {
   "cell_type": "markdown",
   "metadata": {
    "slideshow": {
     "slide_type": "subslide"
    }
   },
   "source": [
    "Accumulators do not change the lazy evaluation model of Spark. "
   ]
  },
  {
   "cell_type": "markdown",
   "metadata": {
    "slideshow": {
     "slide_type": "fragment"
    }
   },
   "source": [
    "If they are being updated within an operation on an RDD, their value is only updated once that RDD is computed as part of an action. "
   ]
  },
  {
   "cell_type": "markdown",
   "metadata": {
    "slideshow": {
     "slide_type": "fragment"
    }
   },
   "source": [
    "Consequently, accumulator updates are not guaranteed to be executed when made within a lazy transformation like map(). "
   ]
  },
  {
   "cell_type": "code",
   "execution_count": 9,
   "metadata": {
    "slideshow": {
     "slide_type": "subslide"
    }
   },
   "outputs": [
    {
     "data": {
      "text/plain": [
       "Accumulator<id=1, value=0>"
      ]
     },
     "execution_count": 9,
     "metadata": {},
     "output_type": "execute_result"
    }
   ],
   "source": [
    "accum = sc.accumulator(0) # Reset\n",
    "accum"
   ]
  },
  {
   "cell_type": "code",
   "execution_count": 10,
   "metadata": {},
   "outputs": [
    {
     "data": {
      "text/plain": [
       "[1, 2, 3, 4]"
      ]
     },
     "execution_count": 10,
     "metadata": {},
     "output_type": "execute_result"
    }
   ],
   "source": [
    "data.collect()"
   ]
  },
  {
   "cell_type": "code",
   "execution_count": 11,
   "metadata": {
    "slideshow": {
     "slide_type": "fragment"
    }
   },
   "outputs": [
    {
     "data": {
      "text/plain": [
       "Accumulator<id=1, value=0>"
      ]
     },
     "execution_count": 11,
     "metadata": {},
     "output_type": "execute_result"
    }
   ],
   "source": [
    "def g(x):\n",
    "    accum.add(x)\n",
    "    return x\n",
    "data.map(g)\n",
    "# Here, accum is still 0 because no actions have caused the `map` to be computed.\n",
    "accum"
   ]
  },
  {
   "cell_type": "code",
   "execution_count": 12,
   "metadata": {
    "slideshow": {
     "slide_type": "subslide"
    }
   },
   "outputs": [],
   "source": [
    "data.map(g).foreach(lambda x: accum.add(1))"
   ]
  },
  {
   "cell_type": "markdown",
   "metadata": {
    "slideshow": {
     "slide_type": "subslide"
    }
   },
   "source": [
    "# Which is the value of accum ?"
   ]
  },
  {
   "cell_type": "code",
   "execution_count": 13,
   "metadata": {
    "slideshow": {
     "slide_type": "fragment"
    }
   },
   "outputs": [
    {
     "data": {
      "text/plain": [
       "Accumulator<id=1, value=14>"
      ]
     },
     "execution_count": 13,
     "metadata": {},
     "output_type": "execute_result"
    }
   ],
   "source": [
    "accum"
   ]
  },
  {
   "cell_type": "markdown",
   "metadata": {
    "slideshow": {
     "slide_type": "slide"
    }
   },
   "source": [
    "# Spark Application"
   ]
  },
  {
   "cell_type": "markdown",
   "metadata": {
    "slideshow": {
     "slide_type": "subslide"
    }
   },
   "source": [
    "[Spark Documentation](https://spark.apache.org/docs/latest/rdd-programming-guide.html)\n",
    "\n",
    "Spark application consists of a **driver** program that runs the user’s main function and executes various parallel operations on a cluster. \n",
    "\n"
   ]
  },
  {
   "cell_type": "markdown",
   "metadata": {
    "slideshow": {
     "slide_type": "subslide"
    }
   },
   "source": [
    "![](https://miro.medium.com/max/700/1*B9lbB8uU7a_Xi0a1uDImRw.jpeg)"
   ]
  },
  {
   "cell_type": "markdown",
   "metadata": {
    "slideshow": {
     "slide_type": "subslide"
    }
   },
   "source": [
    "![](https://spark.apache.org/docs/latest/img/cluster-overview.png)"
   ]
  },
  {
   "cell_type": "markdown",
   "metadata": {
    "slideshow": {
     "slide_type": "subslide"
    }
   },
   "source": [
    "[Anatomy](https://medium.com/@meenakshisundaramsekar/anatomy-of-a-spark-application-in-a-nutshell-2e542d5f334e)\n",
    "![](images/anatomyofsparkapp.png)"
   ]
  },
  {
   "cell_type": "markdown",
   "metadata": {
    "slideshow": {
     "slide_type": "subslide"
    }
   },
   "source": [
    "## Driver"
   ]
  },
  {
   "cell_type": "markdown",
   "metadata": {
    "slideshow": {
     "slide_type": "fragment"
    }
   },
   "source": [
    "The life of Spark programs starts and ends with the Spark Driver. "
   ]
  },
  {
   "cell_type": "markdown",
   "metadata": {
    "slideshow": {
     "slide_type": "fragment"
    }
   },
   "source": [
    "The Spark driver is the process which the clients used to submit the spark program. "
   ]
  },
  {
   "cell_type": "markdown",
   "metadata": {
    "slideshow": {
     "slide_type": "fragment"
    }
   },
   "source": [
    "The Driver is also responsible for application planning and execution of the spark program and returning the status/results to the client."
   ]
  },
  {
   "cell_type": "markdown",
   "metadata": {
    "slideshow": {
     "slide_type": "subslide"
    }
   },
   "source": [
    "[Apache Spark Architeture](https://www.dezyre.com/article/apache-spark-architecture-explained-in-detail/338)\n",
    "![](images/sparkarchiteture.png)"
   ]
  },
  {
   "cell_type": "markdown",
   "metadata": {
    "slideshow": {
     "slide_type": "subslide"
    }
   },
   "source": [
    "It is the central point and the entry point of the Spark Shell (Scala, Python, and R). "
   ]
  },
  {
   "cell_type": "markdown",
   "metadata": {
    "slideshow": {
     "slide_type": "fragment"
    }
   },
   "source": [
    "The driver program runs the main() function of the application and is the place where the Spark Context is created. "
   ]
  },
  {
   "cell_type": "markdown",
   "metadata": {
    "slideshow": {
     "slide_type": "fragment"
    }
   },
   "source": [
    "Spark Driver contains various components responsible for the translation of spark user code into actual spark jobs executed on the cluster."
   ]
  },
  {
   "cell_type": "markdown",
   "metadata": {
    "slideshow": {
     "slide_type": "subslide"
    }
   },
   "source": [
    "![](https://tr.rbxcdn.com/b2337037a6a5440f80026530d20f84fd/768/432/Image/Png)"
   ]
  },
  {
   "cell_type": "markdown",
   "metadata": {
    "slideshow": {
     "slide_type": "subslide"
    }
   },
   "source": [
    "## DAG Scheduler\n",
    "https://spark.apache.org/docs/1.2.1/api/java/org/apache/spark/scheduler/DAGScheduler.html"
   ]
  },
  {
   "cell_type": "markdown",
   "metadata": {
    "slideshow": {
     "slide_type": "subslide"
    }
   },
   "source": [
    "[SparkBasic](https://medium.com/@goyalsaurabh66/spark-basics-rdds-stages-tasks-and-dag-8da0f52f0454)\n",
    "\n",
    "DAGScheduler is the scheduling layer of Apache Spark that implements stage-oriented scheduling. \n",
    "\n",
    "It transforms a logical execution plan (i.e. RDD lineage of dependencies built using RDD transformations) to a physical execution plan (using stages)."
   ]
  },
  {
   "cell_type": "markdown",
   "metadata": {
    "cell_style": "split",
    "slideshow": {
     "slide_type": "subslide"
    }
   },
   "source": [
    "```scala\n",
    "val input = sc.textFile(\"log.txt\")\n",
    "val splitedLines = input.map(line => line.split(\" \")).map(words => (words(0), 1)).reduceByKey{(a,b) => a + b}\n",
    "```"
   ]
  },
  {
   "cell_type": "markdown",
   "metadata": {
    "cell_style": "split",
    "slideshow": {
     "slide_type": "fragment"
    }
   },
   "source": [
    "![](https://miro.medium.com/max/700/1*1WfneX6c7Lc9fqAaR9MaGA.png)"
   ]
  },
  {
   "cell_type": "markdown",
   "metadata": {
    "slideshow": {
     "slide_type": "subslide"
    }
   },
   "source": [
    "![](https://miro.medium.com/v2/resize:fit:1400/1*2bdRFvxGs7baeKHDk-Z0sA.png)"
   ]
  },
  {
   "cell_type": "markdown",
   "metadata": {
    "slideshow": {
     "slide_type": "subslide"
    }
   },
   "source": [
    "## Let's give a look"
   ]
  },
  {
   "cell_type": "code",
   "execution_count": 2,
   "metadata": {
    "slideshow": {
     "slide_type": "fragment"
    }
   },
   "outputs": [
    {
     "name": "stderr",
     "output_type": "stream",
     "text": [
      "                                                                                \r"
     ]
    },
    {
     "data": {
      "text/plain": [
       "[('of', 476),\n",
       " ('', 1474),\n",
       " ('other', 31),\n",
       " ('are', 83),\n",
       " ('check', 4),\n",
       " ('where', 25),\n",
       " ('using', 6),\n",
       " ('eBook.', 2),\n",
       " ('Author:', 1),\n",
       " ('November,', 1),\n",
       " ('[eBook', 1),\n",
       " ('Team,', 1),\n",
       " ('twenty', 11),\n",
       " ('ACT', 10),\n",
       " ('ESCALUS,', 1),\n",
       " ('young', 15),\n",
       " ('family', 2),\n",
       " ('ABRAM,', 1),\n",
       " ('Lady', 17),\n",
       " ('an', 61),\n",
       " ('Nurse.', 14),\n",
       " ('SAMPSON,', 1),\n",
       " ('Women,', 1),\n",
       " ('Watchmen', 1),\n",
       " ('During', 1),\n",
       " ('scene,', 1),\n",
       " ('fatal', 4),\n",
       " ('two', 11),\n",
       " ('life;', 1),\n",
       " ('Whose', 4),\n",
       " ('Doth', 12),\n",
       " ('And', 242),\n",
       " ('continuance', 1),\n",
       " ('rage,', 2),\n",
       " ('but', 100),\n",
       " ('children’s', 1),\n",
       " ('now', 33),\n",
       " ('ears', 3),\n",
       " ('attend,', 1),\n",
       " ('What', 68),\n",
       " ('strive', 1),\n",
       " ('armed', 1),\n",
       " ('colliers.', 1),\n",
       " ('out', 36),\n",
       " ('therefore,', 2),\n",
       " ('maid', 4),\n",
       " ('True,', 2),\n",
       " ('women,', 1),\n",
       " ('vessels,', 1),\n",
       " ('ever', 10),\n",
       " ('wall:', 2),\n",
       " ('one,', 6),\n",
       " ('tyrant:', 1),\n",
       " ('when', 38),\n",
       " ('maids?', 1),\n",
       " ('wilt.', 1),\n",
       " ('They', 9),\n",
       " ('feel', 6),\n",
       " ('naked', 1),\n",
       " ('weapon', 2),\n",
       " ('How?', 1),\n",
       " ('not.', 12),\n",
       " ('marry;', 2),\n",
       " ('thee!', 1),\n",
       " ('let', 30),\n",
       " ('them', 32),\n",
       " ('thumb', 4),\n",
       " ('disgrace', 1),\n",
       " ('ABRAM.', 5),\n",
       " ('thumb,', 2),\n",
       " ('serve', 5),\n",
       " ('good', 58),\n",
       " ('Benvolio.', 2),\n",
       " ('Say', 3),\n",
       " ('master’s', 1),\n",
       " ('[_They', 5),\n",
       " ('hinds?', 1),\n",
       " ('Or', 27),\n",
       " ('coward.', 1),\n",
       " ('clubs.', 1),\n",
       " ('Beat', 1),\n",
       " ('Capulet', 10),\n",
       " ('Thou', 41),\n",
       " ('Hold', 5),\n",
       " ('PRINCE.', 16),\n",
       " ('Rebellious', 1),\n",
       " ('neighbour-stained', 1),\n",
       " ('Will', 11),\n",
       " ('hear?', 1),\n",
       " ('fountains', 1),\n",
       " ('thrice', 1),\n",
       " ('citizens', 2),\n",
       " ('old,', 3),\n",
       " ('canker’d', 1),\n",
       " ('pay', 5),\n",
       " ('peace.', 3),\n",
       " ('away:', 1),\n",
       " ('farther', 2),\n",
       " ('common', 2),\n",
       " ('depart.', 1),\n",
       " ('set', 16),\n",
       " ('Speak,', 1),\n",
       " ('came', 7),\n",
       " ('he', 96),\n",
       " ('swung', 1),\n",
       " ('head,', 5),\n",
       " ('thrusts', 1),\n",
       " ('O', 104),\n",
       " ('sun', 11),\n",
       " ('sycamore', 1),\n",
       " ('ware', 1),\n",
       " ('Which', 24),\n",
       " ('weary', 2),\n",
       " ('morning’s', 4),\n",
       " ('Adding', 1),\n",
       " ('shady', 1),\n",
       " ('Away', 3),\n",
       " ('humour', 1),\n",
       " ('nor', 11),\n",
       " ('affections’', 1),\n",
       " ('far', 5),\n",
       " ('would', 49),\n",
       " ('cure', 2),\n",
       " ('step', 1),\n",
       " ('Not', 15),\n",
       " ('Out', 4),\n",
       " ('Alas', 3),\n",
       " ('Should,', 1),\n",
       " ('hate,', 3),\n",
       " ('Misshapen', 2),\n",
       " ('Feather', 1),\n",
       " ('fire,', 2),\n",
       " ('health!', 1),\n",
       " ('rather', 3),\n",
       " ('heart’s', 3),\n",
       " ('prest', 1),\n",
       " ('hast', 23),\n",
       " ('along:', 1),\n",
       " ('wrong.', 1),\n",
       " ('lost', 2),\n",
       " ('here.', 7),\n",
       " ('suppos’d', 2),\n",
       " ('arm’d,', 1),\n",
       " ('lap', 1),\n",
       " ('wisely', 2),\n",
       " ('forsworn', 1),\n",
       " ('dead,', 20),\n",
       " ('question', 1),\n",
       " ('These', 6),\n",
       " ('cannot', 23),\n",
       " ('lost.', 1),\n",
       " ('hard,', 1),\n",
       " ('lord,', 9),\n",
       " ('yet', 35),\n",
       " ('made.', 2),\n",
       " ('scope', 1),\n",
       " ('guest,', 1),\n",
       " ('behold', 6),\n",
       " ('When', 14),\n",
       " ('apparell’d', 1),\n",
       " ('limping', 1),\n",
       " ('delight', 2),\n",
       " ('Among', 2),\n",
       " ('Hear', 2),\n",
       " ('like', 31),\n",
       " ('there,', 5),\n",
       " ('[_gives', 1),\n",
       " ('yard', 1),\n",
       " ('nets;', 1),\n",
       " ('leaf', 1),\n",
       " ('excellent', 1),\n",
       " ('tormented', 1),\n",
       " ('and—God-den,', 1),\n",
       " ('fellow.', 2),\n",
       " ('misery.', 1),\n",
       " ('merry!', 2),\n",
       " ('County', 12),\n",
       " ('beauteous', 2),\n",
       " ('Livia;', 1),\n",
       " ('Lucio', 1),\n",
       " ('asking.', 1),\n",
       " ('cup', 3),\n",
       " ('Compare', 1),\n",
       " ('all-seeing', 1),\n",
       " ('match', 1),\n",
       " ('lady’s', 8),\n",
       " ('against', 10),\n",
       " ('girl?', 2),\n",
       " ('will?', 2),\n",
       " ('counsel.', 2),\n",
       " ('daughter’s', 3),\n",
       " ('Lammas-tide?', 1),\n",
       " ('Susan', 3),\n",
       " ('Christian', 1),\n",
       " ('Mantua:', 1),\n",
       " ('nipple', 1),\n",
       " ('tetchy,', 1),\n",
       " ('bid', 19),\n",
       " ('alone;', 1),\n",
       " ('nay,', 2),\n",
       " ('waddled', 1),\n",
       " ('about;', 1),\n",
       " ('man,—took', 1),\n",
       " ('‘Yea,’', 2),\n",
       " ('Jule?’', 3),\n",
       " ('jest', 3),\n",
       " ('years,', 2),\n",
       " ('‘Ay’;', 1),\n",
       " ('knock,', 1),\n",
       " ('‘fall’st', 1),\n",
       " ('married', 15),\n",
       " ('of.', 2),\n",
       " ('esteem,', 1),\n",
       " ('seeks', 1),\n",
       " ('Lady,', 4),\n",
       " ('faith', 4),\n",
       " ('obscur’d', 1),\n",
       " ('margent', 1),\n",
       " ('eyes.', 6),\n",
       " ('book', 4),\n",
       " ('hide.', 1),\n",
       " ('less.', 1),\n",
       " ('like,', 2),\n",
       " ('guests', 2),\n",
       " ('served', 2),\n",
       " ('Nurse', 6),\n",
       " ('everything', 1),\n",
       " ('extremity.', 1),\n",
       " ('straight.', 3),\n",
       " ('nights', 1),\n",
       " ('others.', 6),\n",
       " ('apology?', 1),\n",
       " ('ambling;', 1),\n",
       " ('believe', 3),\n",
       " ('shoes,', 1),\n",
       " ('enpierced', 1),\n",
       " ('shaft', 1),\n",
       " ('dull', 2),\n",
       " ('Too', 7),\n",
       " ('tender', 6),\n",
       " ('Prick', 1),\n",
       " ('pricking,', 1),\n",
       " ('down.', 3),\n",
       " ('[_Putting', 1),\n",
       " ('mask._]', 1),\n",
       " ('heels;', 1),\n",
       " ('daylight,', 2),\n",
       " ('ho.', 1),\n",
       " ('sits', 2),\n",
       " ('once', 5),\n",
       " ('tonight.', 7),\n",
       " ('asleep,', 2),\n",
       " ('true.', 3),\n",
       " ('Mab', 3),\n",
       " ('Her', 11),\n",
       " ('wings', 3),\n",
       " ('beams;', 1),\n",
       " ('finger', 2),\n",
       " ('O’er', 3),\n",
       " ('kisses', 3),\n",
       " ('nose', 1),\n",
       " ('neck,', 1),\n",
       " ('Drums', 1),\n",
       " ('starts', 2),\n",
       " ('two,', 3),\n",
       " ('Making', 1),\n",
       " ('women', 1),\n",
       " ('she,—', 1),\n",
       " ('fantasy,', 1),\n",
       " ('bosom', 5),\n",
       " ('despised', 1),\n",
       " ('gentlemen!', 3),\n",
       " ('remove', 3),\n",
       " ('Grindstone', 1),\n",
       " ('boy,', 2),\n",
       " ('ready.', 1),\n",
       " ('Welcome,', 2),\n",
       " ('gentlemen,', 2),\n",
       " ('dance?', 2),\n",
       " ('thirty', 1),\n",
       " ('years.', 1),\n",
       " ('knight?', 1),\n",
       " ('torches', 2),\n",
       " ('ear;', 2),\n",
       " ('hand.', 5),\n",
       " ('heart', 13),\n",
       " ('rapier,', 1),\n",
       " ('alone,', 4),\n",
       " ('Verona', 5),\n",
       " ('wealth', 1),\n",
       " ('presence', 2),\n",
       " ('you?', 3),\n",
       " ('scathe', 1),\n",
       " ('wilful', 1),\n",
       " ('Makes', 1),\n",
       " ('profane', 1),\n",
       " ('shrine,', 1),\n",
       " ('this,', 4),\n",
       " ('too?', 2),\n",
       " ('prayer.', 1),\n",
       " ('Capulet?', 1),\n",
       " ('gone;', 2),\n",
       " ('yond', 4),\n",
       " ('Petruchio.', 1),\n",
       " ('follows', 1),\n",
       " ('enemy.', 2),\n",
       " ('‘Juliet’._]', 1),\n",
       " ('strangers', 1),\n",
       " ('hooks:', 1),\n",
       " ('passion', 1),\n",
       " ('meet,', 2),\n",
       " ('extremities', 1),\n",
       " ('back,', 2),\n",
       " ('Romeo!', 8),\n",
       " ('wise,', 2),\n",
       " ('ape', 1),\n",
       " ('spirit', 4),\n",
       " ('circle,', 1),\n",
       " ('letting', 1),\n",
       " ('spite.', 2),\n",
       " ('invocation', 1),\n",
       " ('dark.', 2),\n",
       " ('mark.', 1),\n",
       " ('truckle-bed.', 1),\n",
       " ('field-bed', 1),\n",
       " ('kill', 9),\n",
       " ('pale', 8),\n",
       " ('envious;', 1),\n",
       " ('wear', 4),\n",
       " ('business,', 1),\n",
       " ('birds', 1),\n",
       " ('glove', 1),\n",
       " ('again', 7),\n",
       " ('glorious', 1),\n",
       " ('Unto', 3),\n",
       " ('white-upturned', 1),\n",
       " ('lazy-puffing', 1),\n",
       " ('wherefore', 2),\n",
       " ('Montague?', 2),\n",
       " ('smell', 1),\n",
       " ('perfection', 1),\n",
       " ('doff', 1),\n",
       " ('hateful', 4),\n",
       " ('Had', 3),\n",
       " ('peril', 1),\n",
       " ('wanting', 2),\n",
       " ('wash’d', 3),\n",
       " ('mask', 1),\n",
       " ('me?', 7),\n",
       " ('thinkest', 2),\n",
       " ('strange.', 1),\n",
       " ('confess,', 1),\n",
       " ('vow,', 2),\n",
       " ('tips', 1),\n",
       " ('silver', 6),\n",
       " ('fruit-tree', 1),\n",
       " ('tops,—', 1),\n",
       " ('monthly', 1),\n",
       " ('unadvis’d,', 1),\n",
       " ('ripening', 1),\n",
       " ('flower', 4),\n",
       " ('repose', 1),\n",
       " ('withdraw', 2),\n",
       " ('honourable,', 1),\n",
       " ('send', 10),\n",
       " ('procure', 1),\n",
       " ('rite,', 1),\n",
       " ('anon.—', 1),\n",
       " ('thee,—', 2),\n",
       " ('send.', 1),\n",
       " ('towards', 1),\n",
       " ('school', 1),\n",
       " ('[_Retiring', 1),\n",
       " ('Hist!', 1),\n",
       " ('silver-sweet', 1),\n",
       " ('why', 4),\n",
       " ('forget,', 2),\n",
       " ('Remembering', 1),\n",
       " ('loving-jealous', 1),\n",
       " ('osier', 1),\n",
       " ('nature’s', 2),\n",
       " ('tomb;', 2),\n",
       " ('find.', 1),\n",
       " ('mickle', 1),\n",
       " ('turns', 3),\n",
       " ('sometime’s', 1),\n",
       " ('action', 1),\n",
       " ('residence,', 1),\n",
       " ('cheers', 1),\n",
       " ('slays', 1),\n",
       " ('senses', 1),\n",
       " ('argues', 1),\n",
       " ('unstuff’d', 1),\n",
       " ('reign.', 1),\n",
       " ('Rosaline?', 1),\n",
       " ('intercession', 1),\n",
       " ('confession', 3),\n",
       " ('finds', 2),\n",
       " ('hers', 1),\n",
       " ('When,', 1),\n",
       " ('Hath', 10),\n",
       " ('water', 2),\n",
       " ('taste.', 1),\n",
       " ('clears,', 1),\n",
       " ('Lo', 1),\n",
       " ('doting,', 1),\n",
       " ('pupil', 1),\n",
       " ('waverer,', 1),\n",
       " ('slow;', 1),\n",
       " ('letter', 6),\n",
       " ('dares,', 1),\n",
       " ('encounter', 1),\n",
       " ('cats.', 1),\n",
       " ('compliments.', 1),\n",
       " ('duellist,', 1),\n",
       " ('hay.', 1),\n",
       " ('accent.', 1),\n",
       " ('herring.', 1),\n",
       " ('numbers', 1),\n",
       " ('bonjour!', 1),\n",
       " ('There’s', 3),\n",
       " ('fairly', 2),\n",
       " ('both.', 4),\n",
       " ('yours', 1),\n",
       " ('Meaning,', 1),\n",
       " ('courteous', 2),\n",
       " ('pump', 1),\n",
       " ('sole', 1),\n",
       " ('singular.', 1),\n",
       " ('singular', 1),\n",
       " ('swits', 1),\n",
       " ('cry', 3),\n",
       " ('five.', 1),\n",
       " ('proves', 1),\n",
       " ('broad', 2),\n",
       " ('bauble', 1),\n",
       " ('hole.', 1),\n",
       " ('short,', 1),\n",
       " ('tale,', 1),\n",
       " ('PETER.', 13),\n",
       " ('good-den?', 1),\n",
       " ('fault', 3),\n",
       " ('worse.', 1),\n",
       " ('wisely,', 1),\n",
       " ('supper.', 1),\n",
       " ('bawd!', 1),\n",
       " ('something', 3),\n",
       " ('stale', 1),\n",
       " ('hare', 3),\n",
       " ('lady;', 1),\n",
       " ('ropery?', 1),\n",
       " ('month.', 1),\n",
       " ('Jacks.', 1),\n",
       " ('cannot,', 1),\n",
       " ('knave!', 1),\n",
       " ('pleasure;', 1),\n",
       " ('dare', 3),\n",
       " ('side.', 2),\n",
       " ('quivers.', 1),\n",
       " ('enquire', 1),\n",
       " ('gross', 2),\n",
       " ('gentlewoman', 1),\n",
       " ('truly,', 1),\n",
       " ('convoy', 1),\n",
       " ('say’st', 3),\n",
       " ('secret?', 1),\n",
       " ('putting', 1),\n",
       " ('toad,', 2),\n",
       " ('sometimes,', 1),\n",
       " ('R.', 1),\n",
       " ('Love’s', 1),\n",
       " ('shadows', 2),\n",
       " ('highmost', 1),\n",
       " ('folks,', 1),\n",
       " ('lead.', 1),\n",
       " ('honey', 3),\n",
       " ('him?', 1),\n",
       " ('bones', 2),\n",
       " ('men’s,', 1),\n",
       " ('lamb.', 1),\n",
       " ('back!', 1),\n",
       " ('jauncing', 1),\n",
       " ('handsome,', 1),\n",
       " ('repliest.', 1),\n",
       " ('says,', 1),\n",
       " ('hot?', 1),\n",
       " ('trow.', 1),\n",
       " ('poultice', 1),\n",
       " ('church.', 1),\n",
       " ('heavens', 3),\n",
       " ('sight.', 3),\n",
       " ('fall;', 1),\n",
       " ('sweeten', 1),\n",
       " ('happiness', 1),\n",
       " ('matter', 2),\n",
       " ('ornament.', 1),\n",
       " ('sum', 2),\n",
       " ('leaves,', 1),\n",
       " ('incorporate', 1),\n",
       " ('days,', 1),\n",
       " ('enters', 1),\n",
       " ('claps', 1),\n",
       " ('Jack', 1),\n",
       " ('Thou?', 1),\n",
       " ('quarrelled', 1),\n",
       " ('coughing', 1),\n",
       " ('Easter?', 1),\n",
       " ('simple!', 2),\n",
       " ('Follow', 1),\n",
       " ('them.', 3),\n",
       " ('good-den:', 1),\n",
       " ('consort!', 1),\n",
       " ('place,', 3),\n",
       " ('depart;', 1),\n",
       " ('afford', 2),\n",
       " ('rat-catcher,', 1),\n",
       " ('walk?', 1),\n",
       " ('outrage,', 1),\n",
       " ('expressly', 1),\n",
       " ('streets.', 1),\n",
       " ('scratch.', 1),\n",
       " ('rat,', 1),\n",
       " ('thought', 8),\n",
       " ('valour’s', 1),\n",
       " ('slain?', 1),\n",
       " ('charge', 8),\n",
       " ('slain', 6),\n",
       " ('cousin!', 1),\n",
       " ('Prince!', 1),\n",
       " ('uttered', 1),\n",
       " ('knees', 1),\n",
       " ('cries', 2),\n",
       " ('swifter', 1),\n",
       " ('interest', 1),\n",
       " ('attend', 2),\n",
       " ('will.', 4),\n",
       " ('pardoning', 1),\n",
       " ('waggoner', 1),\n",
       " ('love-performing', 1),\n",
       " ('unseen.', 1),\n",
       " ('maidenhoods.', 1),\n",
       " ('dead!', 3),\n",
       " ('Alack', 2),\n",
       " ('dismal', 2),\n",
       " ('Vile', 1),\n",
       " ('dearer', 1),\n",
       " ('dreadful', 1),\n",
       " ('trumpet', 1),\n",
       " ('did;', 1),\n",
       " ('alas', 1),\n",
       " ('did.', 2),\n",
       " ('serpent', 1),\n",
       " ('face!', 1),\n",
       " ('wolvish-ravening', 1),\n",
       " ('Shame', 1),\n",
       " ('Blister’d', 1),\n",
       " ('Upon', 5),\n",
       " ('sit;', 1),\n",
       " ('native', 2),\n",
       " ('tributary', 1),\n",
       " ('mistaking', 1),\n",
       " ('rank’d', 1),\n",
       " ('theirs', 1),\n",
       " ('Father,', 1),\n",
       " ('tidings', 2),\n",
       " ('gentler', 1),\n",
       " ('itself.', 1),\n",
       " ('cutt’st', 1),\n",
       " ('axe,', 1),\n",
       " ('aside', 1),\n",
       " ('turn’d', 1),\n",
       " ('mercy.', 1),\n",
       " ('Heaven', 2),\n",
       " ('carrion', 1),\n",
       " ('seize', 1),\n",
       " ('free', 7),\n",
       " ('banished?', 2),\n",
       " ('Adversity’s', 1),\n",
       " ('philosophy,', 1),\n",
       " ('reverse', 1),\n",
       " ('feel.', 1),\n",
       " ('mightst', 2),\n",
       " ('hair,', 1),\n",
       " ('study.—By-and-by.—God’s', 1),\n",
       " ('Welcome', 2),\n",
       " ('drunk.', 1),\n",
       " ('blubbering.', 1),\n",
       " ('Spakest', 1),\n",
       " ('her?', 1),\n",
       " ('conceal’d', 1),\n",
       " ('nothing,', 1),\n",
       " ('weeps;', 1),\n",
       " ('[_Drawing', 1),\n",
       " ('order,', 2),\n",
       " ('slay', 4),\n",
       " ('earth?', 2),\n",
       " ('abound’st', 1),\n",
       " ('usest', 1),\n",
       " ('Digressing', 1),\n",
       " ('misshaped', 1),\n",
       " ('miserable.', 1),\n",
       " ('Ascend', 1),\n",
       " ('Beg', 1),\n",
       " ('coming.', 2),\n",
       " ('learning', 1),\n",
       " ('state:', 1),\n",
       " ('chances', 1),\n",
       " ('unluckily', 1),\n",
       " ('abed', 1),\n",
       " ('tune', 1),\n",
       " ('Tonight', 1),\n",
       " ('Thursday', 9),\n",
       " ('ado,—a', 1),\n",
       " ('tree.', 1),\n",
       " ('Believe', 1),\n",
       " ('nightingale.', 2),\n",
       " ('Cynthia’s', 1),\n",
       " ('notes', 1),\n",
       " ('is’t,', 1),\n",
       " ('Let’s', 2),\n",
       " ('Straining', 1),\n",
       " ('opportunity', 2),\n",
       " ('pale.', 1),\n",
       " ('below._]', 1),\n",
       " ('Fortune!', 1),\n",
       " ('tears?', 2),\n",
       " ('friend.', 1),\n",
       " ('thereof,', 1),\n",
       " ('Soon', 1),\n",
       " ('tidings,', 1),\n",
       " ('careful', 1),\n",
       " ('child;', 2),\n",
       " ('sunset', 1),\n",
       " ('Sailing', 1),\n",
       " ('overset', 1),\n",
       " ('How,', 1),\n",
       " ('Mistress', 1),\n",
       " ('fettle', 1),\n",
       " ('what,—get', 1),\n",
       " ('hilding.', 1),\n",
       " ('gossips,', 1),\n",
       " ('speak?', 1),\n",
       " ('mumbling', 1),\n",
       " ('youthful,', 1),\n",
       " ('nobly', 1),\n",
       " ('advise.', 1),\n",
       " ('subject', 2),\n",
       " ('challenge', 1),\n",
       " ('needs', 4),\n",
       " ('gentleman.', 1),\n",
       " ('hath.', 1),\n",
       " ('first:', 1),\n",
       " ('’twere', 1),\n",
       " ('counts', 1),\n",
       " ('confess', 2),\n",
       " ('price,', 1),\n",
       " ('leisure,', 1),\n",
       " ('now.—', 1),\n",
       " ('commission', 1),\n",
       " ('drowsy', 1),\n",
       " ('progress,', 1),\n",
       " ('roses', 2),\n",
       " ('Each', 1),\n",
       " ('awake', 1),\n",
       " ('vault', 3),\n",
       " ('prosperous', 1),\n",
       " ('strength,', 1),\n",
       " ('look.', 1),\n",
       " ('becomed', 1),\n",
       " ('might,', 1),\n",
       " ('provision,', 1),\n",
       " ('tonight,', 2),\n",
       " ('housewife', 1),\n",
       " ('reclaim’d.', 1),\n",
       " ('Need', 2),\n",
       " ('business.', 1),\n",
       " ('work', 34),\n",
       " ('all?', 1),\n",
       " ('mouth', 2),\n",
       " ('horrible', 1),\n",
       " ('Together', 1),\n",
       " ('ancestors', 1),\n",
       " ('festering', 1),\n",
       " ('shrieks', 1),\n",
       " ('mortals,', 1),\n",
       " ('madly', 1),\n",
       " ('ghost', 1),\n",
       " ('stay!', 1),\n",
       " ('dates', 1),\n",
       " ('pastry.', 1),\n",
       " ('stir!', 1),\n",
       " ('whit.', 1),\n",
       " ('trouble', 2),\n",
       " ('Mass', 1),\n",
       " ('would.', 1),\n",
       " ('madam!', 1),\n",
       " ('born.', 1),\n",
       " ('day!', 4),\n",
       " ('deceas’d,', 1),\n",
       " ('lasting', 1),\n",
       " ('Never', 1),\n",
       " ('Beguil’d,', 1),\n",
       " ('thou.', 1),\n",
       " ('reason’s', 1),\n",
       " ('hymns', 1),\n",
       " ('flowers', 4),\n",
       " ('ill;', 1),\n",
       " ('MUSICIAN.', 14),\n",
       " ('amended.', 1),\n",
       " ('full’.', 1),\n",
       " ('minstrel.', 1),\n",
       " ('crotchets.', 1),\n",
       " ('dagger.', 2),\n",
       " ('sound’', 2),\n",
       " ('Soundpost?', 1),\n",
       " ('‘Then', 1),\n",
       " ('redress.’', 1),\n",
       " ('presage', 1),\n",
       " ('Verona!', 1),\n",
       " ('patience.', 3),\n",
       " ('means.', 1),\n",
       " ('shop', 2),\n",
       " ('alligator', 1),\n",
       " ('stuff’d,', 1),\n",
       " ('fishes;', 1),\n",
       " ('boxes,', 1),\n",
       " ('cakes', 1),\n",
       " ('forerun', 1),\n",
       " ('APOTHECARY.', 4),\n",
       " ('gold,', 2),\n",
       " ('cordial', 1),\n",
       " ('Going', 1),\n",
       " ('searchers', 1),\n",
       " ('accidents;', 1),\n",
       " ('loose,', 1),\n",
       " ('digging', 1),\n",
       " ('graves,', 1),\n",
       " ('adventure.', 1),\n",
       " ('moans.', 1),\n",
       " ('wanders', 1),\n",
       " ('rite?', 1),\n",
       " ('awhile.', 1),\n",
       " ('mattock,', 1),\n",
       " ('descend', 1),\n",
       " ('pry', 1),\n",
       " ('sea.', 1),\n",
       " ('[_Retires_]', 1),\n",
       " ('open,', 1),\n",
       " ('[_Breaking', 1),\n",
       " ('cram', 1),\n",
       " ('creature', 1),\n",
       " ('conjuration,', 1),\n",
       " ('provoke', 1),\n",
       " ('grave?', 2),\n",
       " ('lantern,', 2),\n",
       " ('lightning?', 1),\n",
       " ('Beauty’s', 1),\n",
       " ('ensign', 1),\n",
       " ('sheet?', 1),\n",
       " ('seal', 1),\n",
       " ('Enter,', 1),\n",
       " ('Francis', 1),\n",
       " ('fought,', 1),\n",
       " ('unkind', 1),\n",
       " ('stirs.', 1),\n",
       " ('stirs._]', 1),\n",
       " ('comfortable', 1),\n",
       " ('restorative.', 1),\n",
       " ('WATCH.', 8),\n",
       " ('Watch._]', 2),\n",
       " ('bleeding,', 1),\n",
       " ('trembles,', 1),\n",
       " ('rest?', 1),\n",
       " ('abroad?', 1),\n",
       " ('startles', 1),\n",
       " ('ambiguities,', 1),\n",
       " ('greatest,', 1),\n",
       " ('Betroth’d,', 1),\n",
       " ('sleeping', 1),\n",
       " ('Return’d', 1),\n",
       " ('ought', 1),\n",
       " ('Friar’s', 1),\n",
       " ('sacrifices', 1),\n",
       " ('glooming', 1),\n",
       " ('works,', 5),\n",
       " ('(and', 1),\n",
       " ('Special', 1),\n",
       " ('rules,', 1),\n",
       " ('General', 3),\n",
       " ('trademark.', 4),\n",
       " ('especially', 1),\n",
       " ('FULL', 2),\n",
       " ('distribution', 6),\n",
       " ('indicate', 1),\n",
       " ('possession.', 1),\n",
       " ('1.E.8.', 2),\n",
       " ('1.B.', 1),\n",
       " ('1.E', 1),\n",
       " ('references', 2),\n",
       " ('freely', 4),\n",
       " ('sharing', 1),\n",
       " ('format', 4),\n",
       " ('downloading,', 1),\n",
       " ('sentence,', 1),\n",
       " ('immediate', 2),\n",
       " ('(any', 1),\n",
       " ('copied', 2),\n",
       " ('1.E.2.', 1),\n",
       " ('derived', 1),\n",
       " ('files', 1),\n",
       " ('proprietary', 1),\n",
       " ('provide', 6),\n",
       " ('*', 4),\n",
       " ('returns.', 1),\n",
       " ('money', 3),\n",
       " ('manager', 1),\n",
       " ('expend', 1),\n",
       " ('identify,', 1),\n",
       " ('research', 1),\n",
       " ('1.F.2.', 1),\n",
       " ('WARRANTY,', 1),\n",
       " ('Replacement', 1),\n",
       " ('THAT', 2),\n",
       " ('NO', 2),\n",
       " ('STRICT', 1),\n",
       " ('CONSEQUENTIAL,', 1),\n",
       " ('GIVE', 1),\n",
       " ('(if', 1),\n",
       " ('lieu', 2),\n",
       " ('refund.', 2),\n",
       " ('EXPRESS', 1),\n",
       " ('IMPLIED,', 1),\n",
       " ('interpreted', 1),\n",
       " ('unenforceability', 1),\n",
       " ('remaining', 1),\n",
       " ('agent', 1),\n",
       " ('promotion', 1),\n",
       " ('liability,', 1),\n",
       " ('arise', 1),\n",
       " ('indirectly', 1),\n",
       " ('additions', 1),\n",
       " ('deletions', 1),\n",
       " ('reaching', 1),\n",
       " (\"Gutenberg-tm's\", 1),\n",
       " ('4', 1),\n",
       " ('exempt', 2),\n",
       " ('Salt', 1),\n",
       " ('Lake', 1),\n",
       " ('widespread', 1),\n",
       " ('$5,000)', 1),\n",
       " ('particularly', 1),\n",
       " ('50', 1),\n",
       " ('confirmation', 1),\n",
       " ('DONATIONS', 1),\n",
       " ('offers', 1),\n",
       " ('accepted,', 1),\n",
       " ('current', 1),\n",
       " ('card', 1),\n",
       " ('donate,', 1),\n",
       " ('About', 1),\n",
       " ('library', 1),\n",
       " ('produced', 1),\n",
       " ('start', 1),\n",
       " ('produce', 1),\n",
       " ('by', 106),\n",
       " ('William', 3),\n",
       " ('cost', 2),\n",
       " ('almost', 5),\n",
       " ('terms', 21),\n",
       " ('you', 262),\n",
       " ('Title:', 1),\n",
       " ('Release', 1),\n",
       " ('updated:', 1),\n",
       " ('PG', 2),\n",
       " ('a', 458),\n",
       " ('V.', 8),\n",
       " ('Lawrence’s', 10),\n",
       " ('Gallery', 2),\n",
       " ('churchyard;', 3),\n",
       " ('Nobleman,', 1),\n",
       " ('Prince.', 1),\n",
       " ('wife', 6),\n",
       " ('BENVOLIO,', 1),\n",
       " ('old', 25),\n",
       " ('Servants.', 4),\n",
       " ('Attendants.', 3),\n",
       " ('households,', 1),\n",
       " ('Verona,', 2),\n",
       " ('lay', 11),\n",
       " ('break', 4),\n",
       " ('Where', 27),\n",
       " ('makes', 12),\n",
       " ('hands', 8),\n",
       " ('their', 46),\n",
       " ('overthrows', 1),\n",
       " ('death', 29),\n",
       " ('fearful', 7),\n",
       " ('passage', 1),\n",
       " ('love,', 37),\n",
       " ('Which,', 7),\n",
       " ('which,', 3),\n",
       " ('Gregory,', 2),\n",
       " ('then', 37),\n",
       " ('Ay,', 20),\n",
       " ('me.', 28),\n",
       " ('stand:', 2),\n",
       " ('that', 267),\n",
       " ('stand.', 2),\n",
       " ('wall', 2),\n",
       " ('thee', 88),\n",
       " ('Montague’s', 1),\n",
       " ('men', 11),\n",
       " ('show', 6),\n",
       " ('flesh.', 3),\n",
       " ('Abram', 1),\n",
       " ('My', 51),\n",
       " ('out:', 1),\n",
       " ('sides;', 1),\n",
       " ('list.', 1),\n",
       " ('bite', 8),\n",
       " ('which', 35),\n",
       " ('us,', 5),\n",
       " ('side', 2),\n",
       " ('ay?', 1),\n",
       " ('No.', 4),\n",
       " ('No', 13),\n",
       " ('better.', 1),\n",
       " ('Yes,', 2),\n",
       " ('do.', 2),\n",
       " ('Tybalt.', 4),\n",
       " ('among', 4),\n",
       " ('keep', 17),\n",
       " ('peace,', 7),\n",
       " ('drawn,', 1),\n",
       " ('As', 36),\n",
       " ('Capulets!', 1),\n",
       " ('Montagues!', 1),\n",
       " ('this?', 8),\n",
       " ('sword?', 1),\n",
       " ('seek', 3),\n",
       " ('Escalus,', 1),\n",
       " ('purple', 1),\n",
       " ('veins,', 2),\n",
       " ('On', 8),\n",
       " ('brawls,', 1),\n",
       " ('beseeming', 1),\n",
       " ('ornaments,', 1),\n",
       " ('hate.', 1),\n",
       " ('me,', 47),\n",
       " ('more,', 8),\n",
       " ('Who', 15),\n",
       " ('began?', 1),\n",
       " ('servants', 1),\n",
       " ('drew', 2),\n",
       " ('defiance', 1),\n",
       " ('ears,', 1),\n",
       " ('withal,', 2),\n",
       " ('While', 2),\n",
       " ('interchanging', 1),\n",
       " ('Came', 4),\n",
       " ('who', 17),\n",
       " ('troubled', 1),\n",
       " ('early', 14),\n",
       " ('stole', 1),\n",
       " ('wood.', 1),\n",
       " ('own,', 2),\n",
       " ('might', 5),\n",
       " ('found,', 2),\n",
       " ('many', 12),\n",
       " ('fresh', 2),\n",
       " ('Aurora’s', 1),\n",
       " ('son,', 4),\n",
       " ('portentous', 1),\n",
       " ('remove.', 1),\n",
       " ('cause?', 1),\n",
       " ('learn', 4),\n",
       " ('means?', 1),\n",
       " ('counsellor,', 1),\n",
       " ('how', 31),\n",
       " ('Ere', 5),\n",
       " ('grow,', 1),\n",
       " ('please', 3),\n",
       " ('denied.', 1),\n",
       " ('wert', 2),\n",
       " ('stay', 13),\n",
       " ('Come,', 24),\n",
       " ('madam,', 7),\n",
       " ('seem', 1),\n",
       " ('was.', 1),\n",
       " ('short.', 2),\n",
       " ('tyrannous', 1),\n",
       " ('still,', 1),\n",
       " ('without', 18),\n",
       " ('eyes,', 8),\n",
       " ('will!', 1),\n",
       " ('serious', 1),\n",
       " ('this.', 7),\n",
       " ('such', 45),\n",
       " ('Griefs', 1),\n",
       " ('add', 1),\n",
       " ...]"
      ]
     },
     "execution_count": 2,
     "metadata": {},
     "output_type": "execute_result"
    }
   ],
   "source": [
    "distFile = sc.textFile(\"/Users/nics/Dev/GitHub/tap-workspace/tap2023/spark/dataset/pg1513.txt\", minPartitions=8) \n",
    "words=distFile.flatMap(lambda line:line.split(\" \")).map(lambda words: (words, 1)).reduceByKey(lambda a, b: a + b)\n",
    "words.collect()"
   ]
  },
  {
   "cell_type": "markdown",
   "metadata": {
    "slideshow": {
     "slide_type": "subslide"
    }
   },
   "source": [
    "## Another Resource\n",
    "\n",
    "In Spark, the DAG Scheduler is responsible for transforming a sequence of RDD transformations and actions into a directed acyclic graph (DAG) of stages and tasks, which can be executed in parallel across a cluster of machines. \n",
    "\n",
    "\n",
    "[SparkByExample](https://sparkbyexamples.com/spark/what-is-dag-in-spark/#:~:text=In%20Spark%2C%20the%20DAG%20Scheduler,across%20a%20cluster%20of%20machines.)"
   ]
  },
  {
   "cell_type": "markdown",
   "metadata": {
    "slideshow": {
     "slide_type": "subslide"
    }
   },
   "source": [
    "## TaskScheduler\n",
    "https://spark.apache.org/docs/3.2.1/api/java/org/apache/spark/scheduler/TaskScheduler.html\n",
    "> Low-level task scheduler interface, currently implemented exclusively by TaskSchedulerImpl. This interface allows plugging in different task schedulers. Each TaskScheduler schedules tasks for a single SparkContext. These schedulers get sets of tasks submitted to them from the DAGScheduler for each stage, and are responsible for sending the tasks to the cluster, running them, retrying if there are failures, and mitigating stragglers. They return events to the DAGScheduler."
   ]
  },
  {
   "cell_type": "markdown",
   "metadata": {
    "slideshow": {
     "slide_type": "subslide"
    }
   },
   "source": [
    "## what does it do ?\n",
    "[Source])(https://mallikarjuna_g.gitbooks.io/spark/content/spark-taskscheduler.html)\n",
    "\n"
   ]
  },
  {
   "cell_type": "markdown",
   "metadata": {
    "cell_style": "split",
    "slideshow": {
     "slide_type": "fragment"
    }
   },
   "source": [
    "A TaskScheduler schedules tasks for a single Spark application according to scheduling mode."
   ]
  },
  {
   "cell_type": "markdown",
   "metadata": {
    "cell_style": "split",
    "slideshow": {
     "slide_type": "fragment"
    }
   },
   "source": [
    "![](https://mallikarjuna_g.gitbooks.io/spark/content/images/sparkstandalone-sparkcontext-taskscheduler-schedulerbackend.png)"
   ]
  },
  {
   "cell_type": "markdown",
   "metadata": {
    "slideshow": {
     "slide_type": "subslide"
    }
   },
   "source": [
    "## SchedulerBackend\n",
    "https://spark.apache.org/docs/3.1.3/api/java/org/apache/spark/scheduler/SchedulerBackend.html"
   ]
  },
  {
   "cell_type": "markdown",
   "metadata": {
    "slideshow": {
     "slide_type": "fragment"
    }
   },
   "source": [
    "Spark comes with a pluggable backend mechanism called scheduler backend (aka backend scheduler) to support various cluster managers, e.g. Apache Mesos, Hadoop YARN or Spark’s own Spark Standalone, Spark local and Kubernetes\n",
    "\n",
    "**Scheduler Backend** manages resources to schedule tasks on\n",
    "• Running mode\n",
    "• Local mode\n",
    "• Local cluster mode\n",
    "• Cluster mode"
   ]
  },
  {
   "cell_type": "markdown",
   "metadata": {},
   "source": [
    "![](images/SparkSchedulerBackend1.png)"
   ]
  },
  {
   "cell_type": "markdown",
   "metadata": {
    "slideshow": {
     "slide_type": "subslide"
    }
   },
   "source": [
    "![](images/SparkSchedulerBackend.png)"
   ]
  },
  {
   "cell_type": "markdown",
   "metadata": {
    "slideshow": {
     "slide_type": "subslide"
    }
   },
   "source": [
    "## BlockManager "
   ]
  },
  {
   "cell_type": "markdown",
   "metadata": {
    "cell_style": "split",
    "slideshow": {
     "slide_type": "fragment"
    }
   },
   "source": [
    "Spark storage system is managed by BlockManager that runs both in Driver and Executor instances.\n",
    "\n",
    "Is a key-value store of blocks of data (block storage) identified by a block ID."
   ]
  },
  {
   "cell_type": "markdown",
   "metadata": {
    "cell_style": "split",
    "slideshow": {
     "slide_type": "fragment"
    }
   },
   "source": [
    "Among the types of data stored in blocks we can find:\n",
    "- RDD \n",
    "- shuffle: in this category we can distinguish shuffle data, shuffle index and temporary shuffle files (intermediate results)\n",
    "- broadcast - broadcasted data is organized in blocks too\n",
    "- task results\n",
    "- stream data\n",
    "- temp data (including swap)"
   ]
  },
  {
   "cell_type": "markdown",
   "metadata": {
    "slideshow": {
     "slide_type": "subslide"
    }
   },
   "source": [
    "# Repetita Iuvant"
   ]
  },
  {
   "cell_type": "markdown",
   "metadata": {
    "slideshow": {
     "slide_type": "subslide"
    }
   },
   "source": [
    "https://databricks.com/glossary/what-are-spark-applications\n",
    "![](https://databricks.com/wp-content/uploads/2018/05/Spark-Applications.png)"
   ]
  },
  {
   "cell_type": "markdown",
   "metadata": {
    "slideshow": {
     "slide_type": "subslide"
    }
   },
   "source": [
    "The driver process:"
   ]
  },
  {
   "cell_type": "markdown",
   "metadata": {
    "slideshow": {
     "slide_type": "fragment"
    }
   },
   "source": [
    "- runs your main() function"
   ]
  },
  {
   "cell_type": "markdown",
   "metadata": {
    "slideshow": {
     "slide_type": "fragment"
    }
   },
   "source": [
    "- sits on a node in the cluster"
   ]
  },
  {
   "cell_type": "markdown",
   "metadata": {
    "slideshow": {
     "slide_type": "fragment"
    }
   },
   "source": [
    "- is responsible for three things: \n",
    "   1. maintaining information about the Spark Application;\n",
    "   2. responding to a user’s program or input; \n",
    "   3. and analyzing, distributing, and scheduling work across the executors (defined momentarily). "
   ]
  },
  {
   "cell_type": "markdown",
   "metadata": {
    "slideshow": {
     "slide_type": "subslide"
    }
   },
   "source": [
    "The driver process is absolutely essential "
   ]
  },
  {
   "cell_type": "markdown",
   "metadata": {
    "slideshow": {
     "slide_type": "fragment"
    }
   },
   "source": [
    "it’s the heart of a Spark Application and maintains all relevant information during the lifetime of the application."
   ]
  },
  {
   "cell_type": "markdown",
   "metadata": {
    "slideshow": {
     "slide_type": "subslide"
    }
   },
   "source": [
    "## Spark Context "
   ]
  },
  {
   "cell_type": "markdown",
   "metadata": {
    "slideshow": {
     "slide_type": "subslide"
    }
   },
   "source": [
    "The Spark context is application's Instance created by the Spark driver for each individual Spark programs when it is first submitted by the user."
   ]
  },
  {
   "cell_type": "markdown",
   "metadata": {
    "slideshow": {
     "slide_type": "fragment"
    }
   },
   "source": [
    "Allows Spark Driver to access the cluster through a Cluster Resource Manager and it can be used to create RDDs, accumulators and broadcast variables on the cluster. Spark Context also keeps track of live executors by sending heartbeat messages regularly."
   ]
  },
  {
   "cell_type": "markdown",
   "metadata": {
    "slideshow": {
     "slide_type": "subslide"
    }
   },
   "source": [
    "The Spark Context is created by the Spark Driver for each Spark application when it is first submitted by the user. It exists throughout the entire life of a spark application."
   ]
  },
  {
   "cell_type": "markdown",
   "metadata": {
    "slideshow": {
     "slide_type": "fragment"
    }
   },
   "source": [
    "Usually referred to as variable name sc in programming."
   ]
  },
  {
   "cell_type": "markdown",
   "metadata": {
    "slideshow": {
     "slide_type": "fragment"
    }
   },
   "source": [
    "The Spark Context terminates once the spark application completes. Only one Spark Context can be active per JVM. You must stop() the active Spark Context before creating a new one."
   ]
  },
  {
   "cell_type": "markdown",
   "metadata": {
    "slideshow": {
     "slide_type": "subslide"
    }
   },
   "source": [
    "![](https://mallikarjuna_g.gitbooks.io/spark/diagrams/sparkcontext-createtaskscheduler.png)"
   ]
  },
  {
   "cell_type": "code",
   "execution_count": 3,
   "metadata": {
    "slideshow": {
     "slide_type": "subslide"
    }
   },
   "outputs": [],
   "source": [
    "sc.stop()"
   ]
  },
  {
   "cell_type": "markdown",
   "metadata": {
    "slideshow": {
     "slide_type": "subslide"
    }
   },
   "source": [
    "## Example in Yarn"
   ]
  },
  {
   "cell_type": "markdown",
   "metadata": {
    "slideshow": {
     "slide_type": "fragment"
    }
   },
   "source": [
    " https://luminousmen.com/post/spark-anatomy-of-spark-application"
   ]
  },
  {
   "cell_type": "markdown",
   "metadata": {
    "slideshow": {
     "slide_type": "fragment"
    }
   },
   "source": [
    "![](https://luminousmen.com/media/spark-yarn-architecture.jpg)"
   ]
  },
  {
   "cell_type": "markdown",
   "metadata": {
    "slideshow": {
     "slide_type": "slide"
    }
   },
   "source": [
    "# Deploy"
   ]
  },
  {
   "cell_type": "markdown",
   "metadata": {
    "slideshow": {
     "slide_type": "subslide"
    }
   },
   "source": [
    "The spark-submit script in Spark’s bin directory is used to launch applications on a cluster. "
   ]
  },
  {
   "cell_type": "markdown",
   "metadata": {
    "slideshow": {
     "slide_type": "fragment"
    }
   },
   "source": [
    "It can use all of Spark’s supported cluster managers through a uniform interface so you don’t have to configure your application specially for each one."
   ]
  },
  {
   "cell_type": "markdown",
   "metadata": {
    "slideshow": {
     "slide_type": "slide"
    }
   },
   "source": [
    "# Package"
   ]
  },
  {
   "cell_type": "markdown",
   "metadata": {
    "slideshow": {
     "slide_type": "subslide"
    }
   },
   "source": [
    "If your code depends on other projects, you will need to package them alongside your application in order to distribute the code to a Spark cluster. To do this, create an assembly jar (or “uber” jar) containing your code and its dependencies. Both sbt and Maven have assembly plugins. When creating assembly jars, list Spark and Hadoop as provided dependencies; these need not be bundled since they are provided by the cluster manager at runtime. \n",
    "\n",
    "Once you have an assembled jar you can call the bin/spark-submit script as shown here while passing your jar."
   ]
  },
  {
   "cell_type": "markdown",
   "metadata": {
    "slideshow": {
     "slide_type": "fragment"
    }
   },
   "source": [
    "For Python, you can use the --py-files argument of spark-submit to add .py, .zip or .egg files to be distributed with your application. If you depend on multiple Python files we recommend packaging them into a .zip or .egg."
   ]
  },
  {
   "cell_type": "markdown",
   "metadata": {
    "slideshow": {
     "slide_type": "slide"
    }
   },
   "source": [
    "# Launch"
   ]
  },
  {
   "cell_type": "markdown",
   "metadata": {
    "slideshow": {
     "slide_type": "subslide"
    }
   },
   "source": [
    "Once a user application is bundled, it can be launched using the bin/spark-submit script. \n",
    "\n",
    "This script takes care of setting up the classpath with Spark and its dependencies, and can support different cluster managers and deploy modes that Spark supports:\n",
    "```bash\n",
    "./bin/spark-submit \\\n",
    "  --class <main-class> \\\n",
    "  --master <master-url> \\\n",
    "  --deploy-mode <deploy-mode> \\\n",
    "  --conf <key>=<value> \\\n",
    "  ... # other options\n",
    "  <application-jar> \\\n",
    "  [application-arguments]\n",
    "```"
   ]
  },
  {
   "cell_type": "markdown",
   "metadata": {
    "slideshow": {
     "slide_type": "subslide"
    }
   },
   "source": [
    "Some of the commonly used options are:\n",
    "\n",
    "* --class: The entry point for your application (e.g. org.apache.spark.examples.SparkPi)\n",
    "* --master: The master URL for the cluster (e.g. spark://23.195.26.187:7077)\n",
    "* --deploy-mode: Whether to deploy your driver on the worker nodes (cluster) or locally as an external client (client) (default: client) †\n",
    "* --conf: Arbitrary Spark configuration property in key=value format. For values that contain spaces wrap “key=value” in quotes (as shown).\n",
    "* application-jar: Path to a bundled jar including your application and all dependencies. The URL must be globally visible inside of your cluster, for instance, an hdfs:// path or a file:// path that is present on all nodes.\n",
    "* application-arguments: Arguments passed to the main method of your main class, if any"
   ]
  },
  {
   "cell_type": "markdown",
   "metadata": {
    "slideshow": {
     "slide_type": "subslide"
    }
   },
   "source": [
    "```bash\n",
    "# Run application locally on 8 cores\n",
    "# cd spark home\n",
    "./bin/spark-submit --class org.apache.spark.examples.SparkPi --master local[8] examples/jars/spark-examples_2.12-3.2.1.jar 10000\n",
    "\n",
    "```"
   ]
  },
  {
   "cell_type": "markdown",
   "metadata": {
    "slideshow": {
     "slide_type": "subslide"
    }
   },
   "source": [
    "More in https://spark.apache.org/docs/latest/submitting-applications.html"
   ]
  },
  {
   "cell_type": "markdown",
   "metadata": {
    "slideshow": {
     "slide_type": "slide"
    }
   },
   "source": [
    "# Tap Spark"
   ]
  },
  {
   "cell_type": "markdown",
   "metadata": {
    "slideshow": {
     "slide_type": "subslide"
    }
   },
   "source": [
    "- Code in tap/spark/code is copied into docker "
   ]
  },
  {
   "cell_type": "markdown",
   "metadata": {
    "slideshow": {
     "slide_type": "fragment"
    }
   },
   "source": [
    "- Dataset is inside spark and linked into tap root (check previuos example), reference as spark/dataset..."
   ]
  },
  {
   "cell_type": "markdown",
   "metadata": {
    "slideshow": {
     "slide_type": "fragment"
    }
   },
   "source": [
    "- [Hint] Test on machine and then test on Docker (including dependencies)"
   ]
  },
  {
   "cell_type": "markdown",
   "metadata": {
    "slideshow": {
     "slide_type": "fragment"
    }
   },
   "source": [
    "- https://github.com/apache/spark/tree/master/examples/src/main/python is a good source"
   ]
  },
  {
   "cell_type": "markdown",
   "metadata": {
    "slideshow": {
     "slide_type": "subslide"
    }
   },
   "source": [
    "# Run Python Example in Docker\n",
    "cd repo\n",
    "\n",
    "bash bin/sparkTap.sh simpleapp.py"
   ]
  },
  {
   "cell_type": "markdown",
   "metadata": {
    "slideshow": {
     "slide_type": "subslide"
    }
   },
   "source": [
    "# Biblio"
   ]
  },
  {
   "cell_type": "markdown",
   "metadata": {
    "slideshow": {
     "slide_type": "subslide"
    }
   },
   "source": [
    "- https://medium.com/@meenakshisundaramsekar/anatomy-of-a-spark-application-in-a-nutshell-2e542d5f334e\n",
    "- https://medium.com/luckspark/scala-spark-tutorial-1-hello-world-7e66747faec\n",
    "- https://luminousmen.com/post/spark-anatomy-of-spark-application\n",
    "- https://medium.com/@goyalsaurabh66/spark-basics-rdds-stages-tasks-and-dag-8da0f52f0454\n",
    "- http://cds.iisc.ac.in/wp-content/uploads/DS256.2017.L17.Spark_.Execution.pdf\n",
    "- https://www.waitingforcode.com/apache-spark/apache-spark-blocks-explained/read\n",
    "- https://hyperj.net/note.arts/asset/pdf/deep-dive-into-the-apache-spark-scheduler.pdf"
   ]
  }
 ],
 "metadata": {
  "celltoolbar": "Slideshow",
  "kernelspec": {
   "display_name": "Python 3 (ipykernel)",
   "language": "python",
   "name": "python3"
  },
  "language_info": {
   "codemirror_mode": {
    "name": "ipython",
    "version": 3
   },
   "file_extension": ".py",
   "mimetype": "text/x-python",
   "name": "python",
   "nbconvert_exporter": "python",
   "pygments_lexer": "ipython3",
   "version": "3.9.15"
  },
  "rise": {
   "autolaunch": true,
   "enable_chalkboard": "true",
   "footer": "<div class=\"tap-footer\"> *** Technologies for advanced programming (TAP) - 2023 ***</div>",
   "header": "<div class=\"tap-header\"></div>",
   "scroll": true,
   "theme": "white"
  }
 },
 "nbformat": 4,
 "nbformat_minor": 4
}
